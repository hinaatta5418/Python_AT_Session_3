{
 "cells": [
  {
   "cell_type": "code",
   "execution_count": 1,
   "id": "52b52ee2",
   "metadata": {},
   "outputs": [
    {
     "name": "stdout",
     "output_type": "stream",
     "text": [
      "Total sum 18\n"
     ]
    }
   ],
   "source": [
    "numbers=[1,2,4,5,6]\n",
    "total=0\n",
    "\n",
    "for num in numbers:\n",
    "    total=total+num\n",
    "print(\"Total sum\",total)"
   ]
  },
  {
   "cell_type": "code",
   "execution_count": 6,
   "id": "a74b4862",
   "metadata": {},
   "outputs": [
    {
     "name": "stdout",
     "output_type": "stream",
     "text": [
      "Even number 2\n",
      "Even number 4\n",
      "Even number 6\n"
     ]
    }
   ],
   "source": [
    "numbers=[1,2,4,5,6]\n",
    "\n",
    "\n",
    "for num in numbers:\n",
    "    if num % 2 == 0:\n",
    "        print(\"Even number\",num)\n"
   ]
  },
  {
   "cell_type": "code",
   "execution_count": 12,
   "id": "e5e39ead",
   "metadata": {},
   "outputs": [
    {
     "name": "stdout",
     "output_type": "stream",
     "text": [
      "The capital of BSCS is Coding\n",
      "The capital of Hello is Hi\n"
     ]
    }
   ],
   "source": [
    "capital={\"BSCS\":\"Coding\",\"Hello\":\"Hi\"}\n",
    "for country,capital in capital.items():\n",
    "    print(f\"The capital of {country} is {capital}\")"
   ]
  },
  {
   "cell_type": "code",
   "execution_count": null,
   "id": "cc4b3d51",
   "metadata": {},
   "outputs": [],
   "source": []
  }
 ],
 "metadata": {
  "kernelspec": {
   "display_name": "Python 3 (ipykernel)",
   "language": "python",
   "name": "python3"
  },
  "language_info": {
   "codemirror_mode": {
    "name": "ipython",
    "version": 3
   },
   "file_extension": ".py",
   "mimetype": "text/x-python",
   "name": "python",
   "nbconvert_exporter": "python",
   "pygments_lexer": "ipython3",
   "version": "3.9.13"
  }
 },
 "nbformat": 4,
 "nbformat_minor": 5
}
